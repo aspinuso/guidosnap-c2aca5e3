{
 "cells": [
  {
   "cell_type": "code",
   "execution_count": 1,
   "id": "1548465b-6ea0-40b5-8090-1a40f71fa063",
   "metadata": {},
   "outputs": [
    {
     "name": "stdout",
     "output_type": "stream",
     "text": [
      "      STN  YYYYMMDD  FG   TG   TN   TX    Q   RH  UG\n",
      "0     260  20120101  58  116  102  129   80  142  95\n",
      "1     260  20120102  45   75   46  103  261   -1  83\n",
      "2     260  20120103  87   74   48  107   59  106  81\n",
      "3     260  20120104  71   71   54   86  200   80  79\n",
      "4     260  20120105  83   74   49  102  158  119  77\n",
      "...   ...       ...  ..  ...  ...  ...  ...  ...  ..\n",
      "4378  260  20231227  45   70    6  107   54   34  89\n",
      "4379  260  20231228  81  109  100  115  171    8  75\n",
      "4380  260  20231229  60   93   55  114  181   38  83\n",
      "4381  260  20231230  42   81   55   97  177   -1  84\n",
      "4382  260  20231231  64   88   79   95  130   28  79\n",
      "\n",
      "[4383 rows x 9 columns]\n",
      "       YYYYMMDD       FFMC       ISI         DC       DMC       BUI       FWI\n",
      "0      19060114  81.931256  5.218954   15.98200  6.181710  6.285483  4.451639\n",
      "1      19060115  81.977949  6.889820   16.96400  6.413896  6.594514  6.021851\n",
      "2      19060116  75.453305  5.092154   18.03600  6.681660  6.937818  4.558865\n",
      "3      19060117  42.432680  0.239089    1.48600  3.054014  2.431550  0.078530\n",
      "4      19060118  28.834228  0.014707    1.36000  1.096847  0.786677  0.003700\n",
      "...         ...        ...       ...        ...       ...       ...       ...\n",
      "43363  20241004  60.967056  0.549307  142.89068  1.878210  3.636908  0.207590\n",
      "43364  20241005  69.236986  0.846342  146.36668  2.328224  4.478358  0.347455\n",
      "43365  20241006  75.334418  1.555231  149.86068  2.806118  5.361265  0.689791\n",
      "43366  20241007  78.054633  1.753631  153.94868  3.409168  6.460660  0.847349\n",
      "43367  20241008  79.465628  1.995892  157.92868  3.906305  7.357639  1.164368\n",
      "\n",
      "[43368 rows x 7 columns]\n"
     ]
    }
   ],
   "source": [
    "#Data Merging on date\n",
    "\n",
    "import pandas as pd\n",
    "\n",
    "df=pd.read_csv('Guido-data/debilt_in_situ_no_header.txt',index_col=False, names = ['STN', 'YYYYMMDD', 'FG', 'TG', 'TN', 'TX', 'Q', 'RH', 'UG'])\n",
    "\n",
    "print(df)\n",
    "\n",
    "\n",
    "\n",
    "\n",
    "\n",
    "df_indeces=pd.read_csv('FWI_260.txt')\n",
    "\n",
    "df_indeces.rename(columns={'date': 'YYYYMMDD'}, inplace=True)\n",
    "\n",
    "print(df_indeces)\n"
   ]
  },
  {
   "cell_type": "code",
   "execution_count": 2,
   "id": "6b8029a6-3a9b-494c-ab5b-95727c7a872d",
   "metadata": {
    "editable": true,
    "slideshow": {
     "slide_type": ""
    },
    "tags": []
   },
   "outputs": [
    {
     "name": "stdout",
     "output_type": "stream",
     "text": [
      "      STN  YYYYMMDD  FG   TG   TN   TX    Q   RH  UG       FFMC       ISI  \\\n",
      "0     260  20120101  58  116  102  129   80  142  95  13.626440  0.000024   \n",
      "1     260  20120102  45   75   46  103  261   -1  83  34.928416  0.027034   \n",
      "2     260  20120103  87   74   48  107   59  106  81  35.790707  0.070449   \n",
      "3     260  20120104  71   71   54   86  200   80  79  35.484549  0.049195   \n",
      "4     260  20120105  83   74   49  102  158  119  77  37.440449  0.093710   \n",
      "...   ...       ...  ..  ...  ...  ...  ...  ...  ..        ...       ...   \n",
      "4378  260  20231227  45   70    6  107   54   34  89  33.294921  0.018335   \n",
      "4379  260  20231228  81  109  100  115  171    8  75  57.968993  1.548962   \n",
      "4380  260  20231229  60   93   55  114  181   38  83  47.863122  0.370092   \n",
      "4381  260  20231230  42   81   55   97  177   -1  84  59.933898  0.873323   \n",
      "4382  260  20231231  64   88   79   95  130   28  79  54.515418  0.852082   \n",
      "\n",
      "            DC       DMC       BUI       FWI  \n",
      "0     2.026000  1.000000  0.903598  0.000006  \n",
      "1     3.584000  1.238587  1.328978  0.007537  \n",
      "2     1.630000  1.000000  0.806094  0.017794  \n",
      "3     1.252000  1.000000  0.693822  0.012130  \n",
      "4     1.540000  1.000000  0.781268  0.023546  \n",
      "...        ...       ...       ...       ...  \n",
      "4378  2.250383  1.000000  0.951631  0.004770  \n",
      "4379  4.024383  1.357966  1.473178  0.442451  \n",
      "4380  2.051661  1.000000  0.909331  0.095471  \n",
      "4381  3.501661  1.196370  1.290482  0.241861  \n",
      "4382  4.915661  1.000000  1.325751  0.237425  \n",
      "\n",
      "[4383 rows x 15 columns]\n"
     ]
    }
   ],
   "source": [
    "df_total=pd.merge(df,df_indeces, on=\"YYYYMMDD\")\n",
    "print(df_total)"
   ]
  },
  {
   "cell_type": "code",
   "execution_count": 3,
   "id": "eae18636-210b-4c37-8c3e-b274e6b4ed56",
   "metadata": {
    "editable": true,
    "slideshow": {
     "slide_type": ""
    },
    "tags": []
   },
   "outputs": [
    {
     "name": "stdout",
     "output_type": "stream",
     "text": [
      "      STN  YYYYMMDD  FG   TG   TN   TX  RH  UG       FFMC\n",
      "1796  260  20161201  31   79   51   94  -1  87  78.507105\n",
      "1797  260  20161202  20   52  -25   94   9  90  72.046138\n",
      "1798  260  20161203   8   -1  -43   81   0  93  72.596700\n",
      "1799  260  20161204  24  -14  -50   40   0  85  74.296678\n",
      "1800  260  20161205  14  -27  -69   41   0  87  75.090405\n",
      "...   ...       ...  ..  ...  ...  ...  ..  ..        ...\n",
      "4378  260  20231227  45   70    6  107  34  89  33.294921\n",
      "4379  260  20231228  81  109  100  115   8  75  57.968993\n",
      "4380  260  20231229  60   93   55  114  38  83  47.863122\n",
      "4381  260  20231230  42   81   55   97  -1  84  59.933898\n",
      "4382  260  20231231  64   88   79   95  28  79  54.515418\n",
      "\n",
      "[2587 rows x 9 columns]\n",
      "      STN  YYYYMMDD  FG   TG   TN   TX  RH  UG       ISI\n",
      "1796  260  20161201  31   79   51   94  -1  87  1.727269\n",
      "1797  260  20161202  20   52  -25   94   9  90  0.963992\n",
      "1798  260  20161203   8   -1  -43   81   0  93  0.791871\n",
      "1799  260  20161204  24  -14  -50   40   0  85  1.141049\n",
      "1800  260  20161205  14  -27  -69   41   0  87  0.992398\n",
      "...   ...       ...  ..  ...  ...  ...  ..  ..       ...\n",
      "4378  260  20231227  45   70    6  107  34  89  0.018335\n",
      "4379  260  20231228  81  109  100  115   8  75  1.548962\n",
      "4380  260  20231229  60   93   55  114  38  83  0.370092\n",
      "4381  260  20231230  42   81   55   97  -1  84  0.873323\n",
      "4382  260  20231231  64   88   79   95  28  79  0.852082\n",
      "\n",
      "[2587 rows x 9 columns]\n"
     ]
    }
   ],
   "source": [
    "df_total=df_total.drop(['Q'], axis = 1)\n",
    "\n",
    "\n",
    "\n",
    "df_selection = df_total[df_total['YYYYMMDD'] > 20161150]\n",
    "\n",
    "df_FFMC = df_selection.drop(['ISI', 'DC', 'DMC', 'BUI', 'FWI'], axis = 1)\n",
    "df_ISI = df_selection.drop(['FFMC', 'DC', 'DMC', 'BUI', 'FWI'], axis = 1)\n",
    "df_BUI = df_selection.drop(['ISI', 'DC', 'DMC', 'FFMC', 'FWI'], axis = 1)\n",
    "df_FWI = df_selection.drop(['ISI', 'DC', 'DMC', 'BUI', 'FFMC'], axis = 1)\n",
    "\n",
    "print(df_FFMC)\n",
    "print(df_ISI)\n",
    "\n",
    "df_FFMC.to_csv('FFMC_impact'+'.txt', sep =',', index=False)\n",
    "df_ISI.to_csv('ISI_impact'+'.txt', sep =',', index=False)\n",
    "df_BUI.to_csv('BUI_impact'+'.txt', sep =',', index=False)\n",
    "df_FWI.to_csv('FWI_impact'+'.txt', sep =',', index=False)\n",
    "\n",
    "\n",
    "\n",
    "\n"
   ]
  },
  {
   "cell_type": "code",
   "execution_count": 4,
   "id": "3a8a92b4-4ed0-4484-841f-5943b57ac5fb",
   "metadata": {},
   "outputs": [],
   "source": [
    "df_FFMC_BUI = df_selection.drop(['ISI', 'DC', 'DMC', 'FWI'], axis = 1)\n",
    "df_ISI_FWI = df_selection.drop(['FFMC', 'DC', 'DMC', 'BUI'], axis = 1)\n",
    "df_BUI_FWI = df_selection.drop(['ISI', 'DC', 'DMC', 'FFMC'], axis = 1)\n",
    "df_FWI_FFMC = df_selection.drop(['ISI', 'DC', 'DMC', 'BUI'], axis = 1)\n",
    "\n",
    "\n",
    "df_FFMC_BUI.to_csv('FFMC_BUI_impact'+'.txt', sep =',', index=False)\n",
    "df_ISI_FWI.to_csv('ISI_FWI_impact'+'.txt', sep =',', index=False)\n",
    "df_BUI_FWI.to_csv('BUI_FWI_impact'+'.txt', sep =',', index=False)\n",
    "df_FWI_FFMC.to_csv('FWI_FFMC_impact'+'.txt', sep =',', index=False)"
   ]
  },
  {
   "cell_type": "code",
   "execution_count": 5,
   "id": "95a2ba22-abf1-4b89-a47e-acdb55e1700c",
   "metadata": {},
   "outputs": [],
   "source": [
    "df_FWI_FFMC_BUI = df_selection.drop(['ISI', 'DC', 'DMC'], axis = 1)\n",
    "df_BUI_FWI_ISI = df_selection.drop(['DC', 'DMC', 'FFMC'], axis = 1)\n",
    "df_BUI_FFMC_ISI = df_selection.drop(['DC', 'DMC', 'FWI'], axis = 1)\n",
    "df_BUI_FWI_ISI_FFMC = df_selection.drop(['DC', 'DMC'], axis = 1)\n",
    "df_FWI_FFMC_BUI.to_csv('FWI_FFMC_BUI_impact'+'.txt', sep =',', index=False)\n",
    "df_BUI_FWI_ISI.to_csv('FWI_BUI_ISI_impact'+'.txt', sep =',', index=False)\n",
    "df_BUI_FFMC_ISI.to_csv('ISI_FFMC_BUI_impact'+'.txt', sep =',', index=False)"
   ]
  },
  {
   "cell_type": "code",
   "execution_count": 6,
   "id": "92ca93cd-689d-48df-969b-d0308b294b02",
   "metadata": {},
   "outputs": [],
   "source": [
    "df_BUI_FWI_ISI_FFMC.to_csv('FWI_FFMC_BUI_ISI_impact'+'.txt', sep =',', index=False)"
   ]
  },
  {
   "cell_type": "code",
   "execution_count": null,
   "id": "658a969f-d196-4264-ad8f-81e0cdc25712",
   "metadata": {},
   "outputs": [],
   "source": []
  }
 ],
 "metadata": {
  "kernelspec": {
   "display_name": "Python 3 (ipykernel)",
   "language": "python",
   "name": "python3"
  },
  "language_info": {
   "codemirror_mode": {
    "name": "ipython",
    "version": 3
   },
   "file_extension": ".py",
   "mimetype": "text/x-python",
   "name": "python",
   "nbconvert_exporter": "python",
   "pygments_lexer": "ipython3",
   "version": "3.11.9"
  }
 },
 "nbformat": 4,
 "nbformat_minor": 5
}
