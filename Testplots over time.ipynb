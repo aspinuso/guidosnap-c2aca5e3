{
 "cells": [
  {
   "cell_type": "code",
   "execution_count": 1,
   "id": "39e5f64c-17a5-49cb-a805-62f300b51766",
   "metadata": {},
   "outputs": [],
   "source": [
    "import csv\n",
    "import matplotlib.pyplot as plt\n",
    "import pandas as pd\n",
    "import math"
   ]
  },
  {
   "cell_type": "code",
   "execution_count": null,
   "id": "7cc8c11b-f77a-4aed-bc53-8d24b26fc9b0",
   "metadata": {},
   "outputs": [],
   "source": []
  },
  {
   "cell_type": "code",
   "execution_count": 2,
   "id": "564e40c0-69b3-42b4-a55a-fedd64db45ee",
   "metadata": {},
   "outputs": [],
   "source": [
    "#read CSV from a .txt file\n",
    "file_path = 'Guido-data/Index files/FWI_260.txt'\n",
    "\n",
    "data=[]\n",
    "\n",
    "with open(file_path, 'r') as file:\n",
    "    csv_reader = csv.reader(file)\n",
    "    for row in csv_reader:\n",
    "        data.append(row)"
   ]
  },
  {
   "cell_type": "code",
   "execution_count": 3,
   "id": "163018d9-b5fd-4e65-a6c0-a2e45b670f15",
   "metadata": {},
   "outputs": [],
   "source": [
    "df_indices=pd.DataFrame(data[1:])\n",
    "df_indices.columns=data[0]"
   ]
  },
  {
   "cell_type": "raw",
   "id": "e1da2816-db90-4b52-8064-5069729f70ce",
   "metadata": {},
   "source": [
    "Hieronder wordt de dataframe mooi gemaakt, zodat het goed gebruikt kan worden."
   ]
  },
  {
   "cell_type": "code",
   "execution_count": 4,
   "id": "f4184d5a-d485-40da-8576-5fdde85ed121",
   "metadata": {},
   "outputs": [],
   "source": [
    "df_indices['year']=df_indices['date'].astype(str).str[0:4]\n",
    "df_indices['month']=df_indices['date'].astype(str).str[4:6]\n",
    "df_indices['day']=df_indices['date'].astype(str).str[6:8]\n",
    "df_indices['year']=df_indices['year'].astype(int)\n",
    "df_indices['month']=df_indices['month'].astype(int)\n",
    "df_indices['day']=df_indices['day'].astype(int)\n",
    "df_indices['date']=df_indices['date'].astype(int)\n",
    "df_indices['FFMC']=df_indices['FFMC'].astype(float)\n",
    "df_indices['ISI']=df_indices['ISI'].astype(float)\n",
    "df_indices['DC']=df_indices['DC'].astype(float)\n",
    "df_indices['DMC']=df_indices['DMC'].astype(float)\n",
    "df_indices['BUI']=df_indices['BUI'].astype(float)\n",
    "df_indices['FWI']=df_indices['FWI'].astype(float)"
   ]
  },
  {
   "cell_type": "code",
   "execution_count": 5,
   "id": "741af593-f21a-4879-af1d-3c77172072a0",
   "metadata": {},
   "outputs": [
    {
     "data": {
      "text/html": [
       "<div>\n",
       "<style scoped>\n",
       "    .dataframe tbody tr th:only-of-type {\n",
       "        vertical-align: middle;\n",
       "    }\n",
       "\n",
       "    .dataframe tbody tr th {\n",
       "        vertical-align: top;\n",
       "    }\n",
       "\n",
       "    .dataframe thead th {\n",
       "        text-align: right;\n",
       "    }\n",
       "</style>\n",
       "<table border=\"1\" class=\"dataframe\">\n",
       "  <thead>\n",
       "    <tr style=\"text-align: right;\">\n",
       "      <th></th>\n",
       "      <th>date</th>\n",
       "      <th>FFMC</th>\n",
       "      <th>ISI</th>\n",
       "      <th>DC</th>\n",
       "      <th>DMC</th>\n",
       "      <th>BUI</th>\n",
       "      <th>FWI</th>\n",
       "      <th>year</th>\n",
       "      <th>month</th>\n",
       "      <th>day</th>\n",
       "    </tr>\n",
       "  </thead>\n",
       "  <tbody>\n",
       "    <tr>\n",
       "      <th>0</th>\n",
       "      <td>19060102</td>\n",
       "      <td>84.220644</td>\n",
       "      <td>12.278793</td>\n",
       "      <td>15.000000</td>\n",
       "      <td>6.014404</td>\n",
       "      <td>6.013288</td>\n",
       "      <td>9.717494</td>\n",
       "      <td>1906</td>\n",
       "      <td>1</td>\n",
       "      <td>2</td>\n",
       "    </tr>\n",
       "    <tr>\n",
       "      <th>1</th>\n",
       "      <td>19060103</td>\n",
       "      <td>82.425889</td>\n",
       "      <td>6.071271</td>\n",
       "      <td>15.532000</td>\n",
       "      <td>6.175801</td>\n",
       "      <td>6.194245</td>\n",
       "      <td>5.166888</td>\n",
       "      <td>1906</td>\n",
       "      <td>1</td>\n",
       "      <td>3</td>\n",
       "    </tr>\n",
       "    <tr>\n",
       "      <th>2</th>\n",
       "      <td>19060104</td>\n",
       "      <td>44.627377</td>\n",
       "      <td>0.286477</td>\n",
       "      <td>13.175577</td>\n",
       "      <td>3.612604</td>\n",
       "      <td>4.286752</td>\n",
       "      <td>0.115513</td>\n",
       "      <td>1906</td>\n",
       "      <td>1</td>\n",
       "      <td>4</td>\n",
       "    </tr>\n",
       "    <tr>\n",
       "      <th>3</th>\n",
       "      <td>19060105</td>\n",
       "      <td>18.412167</td>\n",
       "      <td>0.000257</td>\n",
       "      <td>1.324000</td>\n",
       "      <td>1.257584</td>\n",
       "      <td>0.882536</td>\n",
       "      <td>0.000066</td>\n",
       "      <td>1906</td>\n",
       "      <td>1</td>\n",
       "      <td>5</td>\n",
       "    </tr>\n",
       "    <tr>\n",
       "      <th>4</th>\n",
       "      <td>19060106</td>\n",
       "      <td>34.465255</td>\n",
       "      <td>0.076108</td>\n",
       "      <td>1.666000</td>\n",
       "      <td>1.000000</td>\n",
       "      <td>0.815724</td>\n",
       "      <td>0.019262</td>\n",
       "      <td>1906</td>\n",
       "      <td>1</td>\n",
       "      <td>6</td>\n",
       "    </tr>\n",
       "  </tbody>\n",
       "</table>\n",
       "</div>"
      ],
      "text/plain": [
       "       date       FFMC        ISI         DC       DMC       BUI       FWI  \\\n",
       "0  19060102  84.220644  12.278793  15.000000  6.014404  6.013288  9.717494   \n",
       "1  19060103  82.425889   6.071271  15.532000  6.175801  6.194245  5.166888   \n",
       "2  19060104  44.627377   0.286477  13.175577  3.612604  4.286752  0.115513   \n",
       "3  19060105  18.412167   0.000257   1.324000  1.257584  0.882536  0.000066   \n",
       "4  19060106  34.465255   0.076108   1.666000  1.000000  0.815724  0.019262   \n",
       "\n",
       "   year  month  day  \n",
       "0  1906      1    2  \n",
       "1  1906      1    3  \n",
       "2  1906      1    4  \n",
       "3  1906      1    5  \n",
       "4  1906      1    6  "
      ]
     },
     "execution_count": 5,
     "metadata": {},
     "output_type": "execute_result"
    }
   ],
   "source": [
    "df_indices.head()"
   ]
  },
  {
   "cell_type": "markdown",
   "id": "30667acb-2e33-41b0-918b-3ae7de1e879e",
   "metadata": {},
   "source": [
    "Hier een voorbeeld van een grafiek van het aantal gevallen waar de ffmc een waarde hoger heeft dan 90. Je verandert dit dataframe door de Index, hier bijvoorbeeld FFMC te veranderen. En de waarden daarachter te veranderen. Er wordt gebruik gemaakt van panda's dus daar kun je kijken wat er meer mogelijk is."
   ]
  },
  {
   "cell_type": "code",
   "execution_count": 6,
   "id": "39b9f87c-6930-49a9-8ed3-5df0fbaa5cea",
   "metadata": {},
   "outputs": [],
   "source": [
    "example_3 = df_indices.loc[(df_indices.FWI>5)]"
   ]
  },
  {
   "cell_type": "code",
   "execution_count": 7,
   "id": "eecf7a83-620e-49bd-a865-4dd2b096d190",
   "metadata": {},
   "outputs": [
    {
     "name": "stdout",
     "output_type": "stream",
     "text": [
      "<class 'pandas.core.frame.DataFrame'>\n",
      "Index: 5891 entries, 0 to 43343\n",
      "Data columns (total 10 columns):\n",
      " #   Column  Non-Null Count  Dtype  \n",
      "---  ------  --------------  -----  \n",
      " 0   date    5891 non-null   int64  \n",
      " 1   FFMC    5891 non-null   float64\n",
      " 2   ISI     5891 non-null   float64\n",
      " 3   DC      5891 non-null   float64\n",
      " 4   DMC     5891 non-null   float64\n",
      " 5   BUI     5891 non-null   float64\n",
      " 6   FWI     5891 non-null   float64\n",
      " 7   year    5891 non-null   int64  \n",
      " 8   month   5891 non-null   int64  \n",
      " 9   day     5891 non-null   int64  \n",
      "dtypes: float64(6), int64(4)\n",
      "memory usage: 506.3 KB\n"
     ]
    }
   ],
   "source": [
    "example_3.head()\n",
    "example_3.info()"
   ]
  },
  {
   "cell_type": "markdown",
   "id": "884a8f6c-6276-4220-a9f6-48228dd41514",
   "metadata": {},
   "source": [
    "Aantal gevallen van een waarde boven de 88 per jaar, waarbij boven "
   ]
  },
  {
   "cell_type": "code",
   "execution_count": 8,
   "id": "2d118625-8eaa-4df4-afab-c8efd60d4b97",
   "metadata": {},
   "outputs": [
    {
     "data": {
      "text/plain": [
       "(array([ 39.,  49.,  43.,  32., 104.,  34.,  55.,  63.,  45.,  39.,  49.,\n",
       "         51.,  60.,  38., 138.,  58.,  60.,  35.,  49.,  44.,  35.,  77.,\n",
       "         77.,  54.,  32.,  48.,  77.,  85.,  53.,  53.,  40.,  65.,  67.,\n",
       "         42.,  70.,  58.,  70.,  64.,  55.,  64., 121.,  65.,  89.,  34.,\n",
       "         40.,  43.,  62.,  58.,  38.,  36.,  34.,  25., 135.,  43.,   6.,\n",
       "         18.,  19.,  28.,  11.,  20.,  36.,  21.,  65.,  48.,  56.,  16.,\n",
       "         48.,  28.,  66.,  81.,  29.,  41.,  10.,  52.,  25.,  54.,  53.,\n",
       "         49.,  24.,  53.,  16.,  41.,  75.,  57.,  71.,  55.,  34.,  40.,\n",
       "         55.,  63.,  37.,  20.,  44.,  22.,  36.,  18.,  83.,  33.,  28.,\n",
       "         60.,  34.,  42.,  42.,  58.,  40.,  19.,  75.,  26.,  48.,  35.,\n",
       "         36.,  96.,  64., 123.]),\n",
       " array([1907., 1908., 1909., 1910., 1911., 1912., 1913., 1914., 1915.,\n",
       "        1916., 1917., 1918., 1919., 1920., 1921., 1922., 1923., 1924.,\n",
       "        1925., 1926., 1927., 1928., 1929., 1930., 1931., 1932., 1933.,\n",
       "        1934., 1935., 1936., 1937., 1938., 1939., 1940., 1941., 1942.,\n",
       "        1943., 1944., 1945., 1946., 1947., 1948., 1949., 1950., 1951.,\n",
       "        1952., 1953., 1954., 1955., 1956., 1957., 1958., 1959., 1960.,\n",
       "        1961., 1962., 1963., 1964., 1965., 1966., 1967., 1968., 1969.,\n",
       "        1970., 1971., 1972., 1973., 1974., 1975., 1976., 1977., 1978.,\n",
       "        1979., 1980., 1981., 1982., 1983., 1984., 1985., 1986., 1987.,\n",
       "        1988., 1989., 1990., 1991., 1992., 1993., 1994., 1995., 1996.,\n",
       "        1997., 1998., 1999., 2000., 2001., 2002., 2003., 2004., 2005.,\n",
       "        2006., 2007., 2008., 2009., 2010., 2011., 2012., 2013., 2014.,\n",
       "        2015., 2016., 2017., 2018., 2019., 2020., 2021.]),\n",
       " <BarContainer object of 114 artists>)"
      ]
     },
     "execution_count": 8,
     "metadata": {},
     "output_type": "execute_result"
    },
    {
     "data": {
      "image/png": "[encoded data removed]",
      "text/plain": [
       "<Figure size 640x480 with 1 Axes>"
      ]
     },
     "metadata": {},
     "output_type": "display_data"
    }
   ],
   "source": [
    "plt.hist(example_3['year'], bins=range(1907,2022))"
   ]
  },
  {
   "cell_type": "markdown",
   "id": "be3981d2-292b-4f51-8ac4-6970004c33b0",
   "metadata": {},
   "source": [
    "Aantal gevallen van een waarde boven de 88 per maand"
   ]
  },
  {
   "cell_type": "code",
   "execution_count": 9,
   "id": "07a009d5-80c4-42bd-ad13-8286e7552362",
   "metadata": {},
   "outputs": [
    {
     "data": {
      "text/plain": [
       "(array([   0.,    2.,   11.,  128.,  687., 1235., 1306., 1167.,  825.,\n",
       "         410.,  101.,   19.]),\n",
       " array([ 0.,  1.,  2.,  3.,  4.,  5.,  6.,  7.,  8.,  9., 10., 11., 12.]),\n",
       " <BarContainer object of 12 artists>)"
      ]
     },
     "execution_count": 9,
     "metadata": {},
     "output_type": "execute_result"
    },
    {
     "data": {
      "image/png": "[encoded data removed]",
      "text/plain": [
       "<Figure size 640x480 with 1 Axes>"
      ]
     },
     "metadata": {},
     "output_type": "display_data"
    }
   ],
   "source": [
    "plt.hist(example_3['month'], bins=range(0,13), align='mid')"
   ]
  },
  {
   "cell_type": "code",
   "execution_count": null,
   "id": "0d33a085-b0fa-4076-b912-afd67355505c",
   "metadata": {},
   "outputs": [],
   "source": []
  }
 ],
 "metadata": {
  "kernelspec": {
   "display_name": "Python 3 (ipykernel)",
   "language": "python",
   "name": "python3"
  },
  "language_info": {
   "codemirror_mode": {
    "name": "ipython",
    "version": 3
   },
   "file_extension": ".py",
   "mimetype": "text/x-python",
   "name": "python",
   "nbconvert_exporter": "python",
   "pygments_lexer": "ipython3",
   "version": "3.11.9"
  }
 },
 "nbformat": 4,
 "nbformat_minor": 5
}
