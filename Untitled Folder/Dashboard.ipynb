{
 "cells": [
  {
   "cell_type": "code",
   "execution_count": 1,
   "id": "aa368fd0-6248-4810-9f98-27e9e47ea916",
   "metadata": {},
   "outputs": [],
   "source": [
    "from dash import Dash, html, dcc\n",
    "import dash_bootstrap_components as dbc\n",
    "import plotly.express as px"
   ]
  },
  {
   "cell_type": "code",
   "execution_count": 2,
   "id": "e56c564a-a080-47f6-9a2b-4b77c2e4611b",
   "metadata": {},
   "outputs": [
    {
     "data": {
      "text/html": [
       "\n",
       "        <iframe\n",
       "            width=\"100%\"\n",
       "            height=\"650\"\n",
       "            src=\"http://127.0.0.1:8050/\"\n",
       "            frameborder=\"0\"\n",
       "            allowfullscreen\n",
       "            \n",
       "        ></iframe>\n",
       "        "
      ],
      "text/plain": [
       "<IPython.lib.display.IFrame at 0x7fc3bf3f1210>"
      ]
     },
     "metadata": {},
     "output_type": "display_data"
    }
   ],
   "source": [
    "# Iris bar figure\n",
    "def drawFigure():\n",
    "    return  html.Div([\n",
    "        dbc.Card(\n",
    "            dbc.CardBody([\n",
    "                dcc.Graph(\n",
    "                    figure=px.bar(\n",
    "                        df, x=\"sepal_width\", y=\"sepal_length\", color=\"species\"\n",
    "                    ).update_layout(\n",
    "                        template='plotly_dark',\n",
    "                        plot_bgcolor= 'rgba(0, 0, 0, 0)',\n",
    "                        paper_bgcolor= 'rgba(0, 0, 0, 0)',\n",
    "                    ),\n",
    "                    config={\n",
    "                        'displayModeBar': False\n",
    "                    }\n",
    "                ) \n",
    "            ])\n",
    "        ),  \n",
    "    ])\n",
    "\n",
    "# Text field\n",
    "def drawText(string):\n",
    "    return html.Div([\n",
    "        dbc.Card(\n",
    "            dbc.CardBody([\n",
    "                html.Div([\n",
    "                    html.H2(string),\n",
    "                ], style={'textAlign': 'center'}) \n",
    "            ])\n",
    "        ),\n",
    "    ])\n",
    "\n",
    "# Data\n",
    "df = px.data.iris()\n",
    "\n",
    "# Build App\n",
    "app = Dash(external_stylesheets=[dbc.themes.SLATE])\n",
    "\n",
    "app.layout = html.Div([\n",
    "    dbc.Card(\n",
    "        dbc.CardBody([\n",
    "            dbc.Row([\n",
    "                dbc.Col([\n",
    "                    drawText(\"banaan\")\n",
    "                ], width=3),\n",
    "                dbc.Col([\n",
    "                    drawText(\"Appel\")\n",
    "                ], width=3),\n",
    "                dbc.Col([\n",
    "                    drawText(\"Peer\")\n",
    "                ], width=6),\n",
    "            ], align='center'), \n",
    "            html.Br(),\n",
    "            dbc.Row([\n",
    "                dbc.Col([\n",
    "                    drawFigure() \n",
    "                ], width=3),\n",
    "                dbc.Col([\n",
    "                    drawFigure()\n",
    "                ], width=3),\n",
    "                dbc.Col([\n",
    "                    drawFigure() \n",
    "                ], width=6),\n",
    "            ], align='center'), \n",
    "            html.Br(),\n",
    "            dbc.Row([\n",
    "                dbc.Col([\n",
    "                    drawFigure()\n",
    "                ], width=9),\n",
    "                dbc.Col([\n",
    "                    drawFigure()\n",
    "                ], width=3),\n",
    "            ], align='center'),      \n",
    "        ]), color = 'dark'\n",
    "    )\n",
    "])\n",
    "\n",
    "app.run_server(debug=False)"
   ]
  },
  {
   "cell_type": "code",
   "execution_count": null,
   "id": "8e799d72-8451-4aec-b3f0-9dc18e45e872",
   "metadata": {
    "editable": true,
    "slideshow": {
     "slide_type": ""
    },
    "tags": []
   },
   "outputs": [],
   "source": []
  }
 ],
 "metadata": {
  "kernelspec": {
   "display_name": "Python 3 (ipykernel)",
   "language": "python",
   "name": "python3"
  },
  "language_info": {
   "codemirror_mode": {
    "name": "ipython",
    "version": 3
   },
   "file_extension": ".py",
   "mimetype": "text/x-python",
   "name": "python",
   "nbconvert_exporter": "python",
   "pygments_lexer": "ipython3",
   "version": "3.11.9"
  }
 },
 "nbformat": 4,
 "nbformat_minor": 5
}
