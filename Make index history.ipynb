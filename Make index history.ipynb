{
 "cells": [
  {
   "cell_type": "markdown",
   "id": "085f06fa-44e4-490f-a908-e2ed0c6a86cc",
   "metadata": {},
   "source": [
    "In this notebook the historical values of the fireindices are calculated and saved in a file. To calculate new ones, you can directly download the historical data from the daggegevens website in csv format:\n",
    "https://daggegevens.knmi.nl/klimatologie/daggegevens\n",
    "with one station of the stations and the fields(or velden) FG, TX, RH and UG ticked."
   ]
  },
  {
   "cell_type": "code",
   "execution_count": 1,
   "id": "2dd96e77-7322-4b4a-a187-8948ca8fe87e",
   "metadata": {},
   "outputs": [],
   "source": [
    "from FireWeatherIndex import FWICLASS\n",
    "import matplotlib.pyplot as plt\n",
    "import csv\n",
    "import pandas as pd"
   ]
  },
  {
   "cell_type": "markdown",
   "id": "3fb3b4a3-070c-4b8c-9698-67d310b0e890",
   "metadata": {},
   "source": [
    "Here you can put the filepath of the downloaded file. To in the end calculate the values of the latest dates if possible. For this all the given ticked functions have to be there."
   ]
  },
  {
   "cell_type": "code",
   "execution_count": 2,
   "id": "469d691d-10fa-4d09-af1e-e9c88f86843d",
   "metadata": {
    "editable": true,
    "slideshow": {
     "slide_type": ""
    },
    "tags": []
   },
   "outputs": [],
   "source": [
    "#Inputs:\n",
    "file_path = 'Guido-data/Dagdata/result (58).txt'"
   ]
  },
  {
   "cell_type": "markdown",
   "id": "68349adc-2b44-4006-a89d-b11a9a6b3b80",
   "metadata": {},
   "source": [
    "In here we open the file and put in into tha data that is used. After that we find the station code to create the file numbers, automatically."
   ]
  },
  {
   "cell_type": "code",
   "execution_count": 3,
   "id": "408339af-2031-4c72-b875-503ad973ee00",
   "metadata": {
    "editable": true,
    "scrolled": true,
    "slideshow": {
     "slide_type": ""
    },
    "tags": []
   },
   "outputs": [
    {
     "name": "stdout",
     "output_type": "stream",
     "text": [
      "260\n"
     ]
    }
   ],
   "source": [
    "#read CSV from a .txt file\n",
    "\n",
    "\n",
    "data=[]\n",
    "\n",
    "with open(file_path, 'r') as file:\n",
    "    csv_reader = csv.reader(file)\n",
    "    for row in csv_reader:\n",
    "        data.append(row)\n",
    "\n",
    "data=data[12:]\n",
    "\n",
    "station_code=data[0][0]\n",
    "station_code=int(station_code)\n",
    "station_code=str(station_code)\n",
    "print(station_code)"
   ]
  },
  {
   "cell_type": "markdown",
   "id": "b58be3dc-800a-42dd-9977-5c83285287b2",
   "metadata": {
    "editable": true,
    "slideshow": {
     "slide_type": ""
    },
    "tags": []
   },
   "source": [
    "0=station\n",
    "1=date\n",
    "2=windspeed\n",
    "3=temperature\n",
    "4=neerslag\n",
    "5=luchtvochtigheid\n",
    "\n",
    "Below we find the first possible data entry where all 4 of the data constraints are met. For example in De Bilt it's the 1826th entry, or january 2nd 1906."
   ]
  },
  {
   "cell_type": "code",
   "execution_count": 4,
   "id": "4316718b-6d1b-479b-8e92-79a036d6caaf",
   "metadata": {},
   "outputs": [
    {
     "name": "stdout",
     "output_type": "stream",
     "text": [
      "1826\n"
     ]
    }
   ],
   "source": [
    "#Here we find the first possible data entry to calculate the FFMC, ISI\n",
    "\n",
    "def is_float(string):\n",
    "    try: \n",
    "        float(string)\n",
    "        return True\n",
    "    except ValueError:\n",
    "        return False\n",
    "\n",
    "def first_data_entry(data):\n",
    "    i=0\n",
    "    while not(is_float(data[i][2]) & is_float(data[i][3]) & is_float(data[i][4]) & is_float(data[i][5])):\n",
    "        i+=1\n",
    "    return i\n",
    "\n",
    "first=(first_data_entry(data))\n",
    "    \n",
    "print(first)    "
   ]
  },
  {
   "cell_type": "code",
   "execution_count": 5,
   "id": "0777f538-71d7-4a1e-ae43-04e2f9a0dfb6",
   "metadata": {},
   "outputs": [
    {
     "name": "stdout",
     "output_type": "stream",
     "text": [
      "43409\n"
     ]
    }
   ],
   "source": [
    "length=len(data)-first\n",
    "print(length)"
   ]
  },
  {
   "cell_type": "markdown",
   "id": "7767fec8-94a6-4dae-90e3-30dfc580a2b2",
   "metadata": {
    "editable": true,
    "slideshow": {
     "slide_type": ""
    },
    "tags": []
   },
   "source": [
    "Here we first create te list of FFMCs we calculate this with changed units, that have to be put in the Fire weather index(within value of the code). The initial(0th) entry is 85, because this calculation is an iterative process and has to have a starting point. After 4 or 5 interations the calculations are getting right. "
   ]
  },
  {
   "cell_type": "code",
   "execution_count": 6,
   "id": "31778f52-73de-4649-99f3-3ff060c76487",
   "metadata": {},
   "outputs": [],
   "source": [
    "i=first+1\n",
    "list=[]\n",
    "ffmc_calc=[[0,85]]\n",
    "\n",
    "while i<len(data):\n",
    "    list=[]\n",
    "    list.append(data[i][1])\n",
    "    if not is_float(data[i][4]):\n",
    "        data[i][4]=0\n",
    "    if not is_float(data[i][2]):\n",
    "        data[i][2]=0\n",
    "    value=FWICLASS(float(data[i][3])/10,float(data[i][5]),float(data[i][2])/10*3.6,float(data[i][4])/10)\n",
    "    ffmc=value.FFMCcalc(float(ffmc_calc[i-first-1][1]))\n",
    "    list.append(ffmc)\n",
    "    ffmc_calc.append(list)\n",
    "    i+=1"
   ]
  },
  {
   "cell_type": "markdown",
   "id": "9aa1b9af-8c7e-4f10-bedc-9a4c476a1f78",
   "metadata": {},
   "source": [
    "In here the DMC is calculated. For this also the month has to be found for the calculation. The initial value here is 6. It depends on the former value. This index is about the drought of the layers in the ground, one have to check when the first day is of the first year to know if these values are usable. If it's early it's okay to use, but if it's later in the year(let's say june or july) the initial values of these index are not accurate. The second year is definitely useable."
   ]
  },
  {
   "cell_type": "code",
   "execution_count": 7,
   "id": "ef4eebcc-c367-4c66-9294-fa534197016d",
   "metadata": {},
   "outputs": [],
   "source": [
    "i=first+1\n",
    "list=[]\n",
    "dmc_calc=[[0,6]]\n",
    "while i<len(data):\n",
    "    list=[]\n",
    "    list.append(data[i][1])\n",
    "    value=FWICLASS(float(data[i][3])/10,float(data[i][5]),float(data[i][2])/10*3.6,float(data[i][4])/10)\n",
    "    month=data[i][1][4:6]\n",
    "    dmc=value.DMCcalc(float(dmc_calc[i-first-1][1]),mth = int(month))\n",
    "    list.append(dmc)\n",
    "    dmc_calc.append(list)\n",
    "    i+=1"
   ]
  },
  {
   "cell_type": "markdown",
   "id": "d80c4d07-bdae-42b4-8b2b-43f4459f0976",
   "metadata": {},
   "source": [
    "Here the ISI is calculated, ISI is dependant on the FFMC of that day"
   ]
  },
  {
   "cell_type": "code",
   "execution_count": 8,
   "id": "d75f3b8c-ab3c-449a-be02-9e98461b40c4",
   "metadata": {},
   "outputs": [],
   "source": [
    "i=first+1\n",
    "list=[]\n",
    "isi_calc=[]\n",
    "while i<len(data):\n",
    "    list=[]\n",
    "    list.append(data[i][1])\n",
    "    value=FWICLASS(float(data[i][3])/10,float(data[i][5]),float(data[i][2])/10*3.6,float(data[i][4])/10)\n",
    "    isi=value.ISIcalc(float(ffmc_calc[i-first][1]))\n",
    "    list.append(isi)\n",
    "    isi_calc.append(list)\n",
    "    i+=1"
   ]
  },
  {
   "cell_type": "markdown",
   "id": "3c5c0e43-6192-436d-adfd-73bcb62c724e",
   "metadata": {},
   "source": [
    "In here DC is calculated, the starting point is 15 and this is dependant on the month and day. Because this index is dependant on the last day and about the drought of the deeper layers, one have to check when the first day is of the first year to know if these values are usable. If it's early it's okay to use, but if it's later in the year(let's say june or july) the initial values of these index are not accurate."
   ]
  },
  {
   "cell_type": "code",
   "execution_count": 9,
   "id": "526ef6e7-1148-4851-8ac0-d223dd99783d",
   "metadata": {
    "editable": true,
    "slideshow": {
     "slide_type": ""
    },
    "tags": []
   },
   "outputs": [],
   "source": [
    "i=first+1\n",
    "list=[]\n",
    "dc_calc=[[0,15]]\n",
    "while i<len(data):\n",
    "    list=[]\n",
    "    list.append(data[i][1])\n",
    "    value=FWICLASS(float(data[i][3])/10,float(data[i][5]),float(data[i][2])/10*3.6,float(data[i][4])/10)\n",
    "    month=data[i][1][4:6]\n",
    "    dc=value.DCcalc(float(dc_calc[i-first-1][1]),mth = int(month))\n",
    "    list.append(dc)\n",
    "    dc_calc.append(list)\n",
    "    i+=1"
   ]
  },
  {
   "cell_type": "markdown",
   "id": "05d352b0-4f31-44d8-92cd-91bca8a3fa6d",
   "metadata": {},
   "source": [
    "Here BUI is calculated where DMC and DC of that day are used."
   ]
  },
  {
   "cell_type": "code",
   "execution_count": 10,
   "id": "f28f165a-2af2-4d05-a4fd-00cf8df9e87c",
   "metadata": {
    "editable": true,
    "slideshow": {
     "slide_type": ""
    },
    "tags": []
   },
   "outputs": [],
   "source": [
    "i=first+1\n",
    "list=[]\n",
    "bui_calc=[]\n",
    "while i<len(data):\n",
    "    list=[]\n",
    "    list.append(data[i][1])\n",
    "    value=FWICLASS(float(data[i][3])/10,float(data[i][5]),float(data[i][2])/10*3.6,float(data[i][4])/10)\n",
    "    bui=value.BUIcalc(float(dmc_calc[i-first][1]),dc_calc[i-first][1])\n",
    "    list.append(bui)\n",
    "    bui_calc.append(list)\n",
    "    i+=1"
   ]
  },
  {
   "cell_type": "markdown",
   "id": "f44d4c22-8af2-4552-9318-20b520bc07ca",
   "metadata": {},
   "source": [
    "Here FWI is calculated where BUI and ISI are used."
   ]
  },
  {
   "cell_type": "code",
   "execution_count": 11,
   "id": "14014de6-1844-4fd7-9faf-70ffd4ce440c",
   "metadata": {
    "editable": true,
    "slideshow": {
     "slide_type": ""
    },
    "tags": []
   },
   "outputs": [],
   "source": [
    "i=first+1\n",
    "list=[]\n",
    "fwi_calc=[]\n",
    "while i<len(data):\n",
    "    list=[]\n",
    "    list.append(data[i][1])\n",
    "    value=FWICLASS(float(data[i][3])/10,float(data[i][5]),float(data[i][2])/10*3.6,float(data[i][4])/10)\n",
    "    fwi=value.FWIcalc(float(isi_calc[i-first-1][1]),bui_calc[i-first-1][1])\n",
    "    list.append(fwi)\n",
    "    fwi_calc.append(list)\n",
    "    i+=1"
   ]
  },
  {
   "cell_type": "markdown",
   "id": "0a0b395f-f10b-4dab-981a-6b792b32b56b",
   "metadata": {},
   "source": [
    "Here the dataframes of the different indices are merged into one, where date is in the YYYYMMDD format."
   ]
  },
  {
   "cell_type": "code",
   "execution_count": 12,
   "id": "654dfaf4-d2f0-41ae-8436-d65b4a960128",
   "metadata": {},
   "outputs": [
    {
     "name": "stdout",
     "output_type": "stream",
     "text": [
      "           date       FFMC        ISI          DC       DMC       BUI  \\\n",
      "0      19060102  84.220644  12.278793   15.000000  6.014404  6.013288   \n",
      "1      19060103  82.425889   6.071271   15.532000  6.175801  6.194245   \n",
      "2      19060104  44.627377   0.286477   13.175577  3.612604  4.286752   \n",
      "3      19060105  18.412167   0.000257    1.324000  1.257584  0.882536   \n",
      "4      19060106  34.465255   0.076108    1.666000  1.000000  0.815724   \n",
      "...         ...        ...        ...         ...       ...       ...   \n",
      "43403  20241101  45.375846   0.132245  200.962223  1.454636  2.857561   \n",
      "43404  20241102  55.746225   0.436468  203.006223  1.697655  3.325780   \n",
      "43405  20241103  60.564315   0.517339  205.122223  1.870672  3.657944   \n",
      "43406  20241104  66.357422   0.889677  207.292223  2.086512  4.070592   \n",
      "43407  20241105  68.554471   0.756394  209.102223  2.222274  4.329516   \n",
      "\n",
      "            FWI  \n",
      "0      9.717494  \n",
      "1      5.166888  \n",
      "2      0.115513  \n",
      "3      0.000066  \n",
      "4      0.019262  \n",
      "...         ...  \n",
      "43403  0.045807  \n",
      "43404  0.159527  \n",
      "43405  0.195939  \n",
      "43406  0.351324  \n",
      "43407  0.306232  \n",
      "\n",
      "[43408 rows x 7 columns]\n"
     ]
    }
   ],
   "source": [
    "df_ffmc=pd.DataFrame(ffmc_calc)\n",
    "df_isi=pd.DataFrame(isi_calc)\n",
    "result = pd.merge(df_ffmc, df_isi, on=0, how='right', suffixes=('_ffmc', '_isi'))\n",
    "df_dc=pd.DataFrame(dc_calc)\n",
    "result = pd.merge(result, df_dc, on=0, how='right')\n",
    "df_dmc=pd.DataFrame(dmc_calc)\n",
    "result = pd.merge(result, df_dmc, on=0, how='right', suffixes=('_dc', '_dmc'))\n",
    "df_bui=pd.DataFrame(bui_calc)\n",
    "result = pd.merge(result, df_bui, on=0, how='right')\n",
    "df_fwi=pd.DataFrame(fwi_calc)\n",
    "result = pd.merge(result, df_fwi, on=0, how='right', suffixes=('_bui', '_fwi'))\n",
    "\n",
    "result.columns = ['date', 'FFMC', 'ISI', 'DC', 'DMC', 'BUI','FWI']\n",
    "\n",
    "print(result)\n",
    "\n"
   ]
  },
  {
   "cell_type": "markdown",
   "id": "579c63da-157a-4c63-9bc0-06d62f36d91b",
   "metadata": {},
   "source": [
    "Here the dataframe is saved in a file FWI_stationnumber.txt file which is of the format csv. For example de Bilt is 260. A place to find an overview of these numbers with the station names is findable here also: https://daggegevens.knmi.nl/"
   ]
  },
  {
   "cell_type": "code",
   "execution_count": 13,
   "id": "4e6edf96-27ef-499c-9771-46e7170495ae",
   "metadata": {
    "editable": true,
    "slideshow": {
     "slide_type": ""
    },
    "tags": []
   },
   "outputs": [],
   "source": [
    "result.to_csv('FWI_'+str(station_code)+'.txt', sep =',', index=False)\n",
    "\n",
    "\n"
   ]
  },
  {
   "cell_type": "code",
   "execution_count": null,
   "id": "b4320dee-28b3-42f5-8328-c7fa1786ed12",
   "metadata": {
    "editable": true,
    "slideshow": {
     "slide_type": ""
    },
    "tags": []
   },
   "outputs": [],
   "source": []
  },
  {
   "cell_type": "code",
   "execution_count": null,
   "id": "9f7bd279-6d55-4b7c-beff-1c1a5a859c03",
   "metadata": {},
   "outputs": [],
   "source": []
  }
 ],
 "metadata": {
  "kernelspec": {
   "display_name": "Python 3 (ipykernel)",
   "language": "python",
   "name": "python3"
  },
  "language_info": {
   "codemirror_mode": {
    "name": "ipython",
    "version": 3
   },
   "file_extension": ".py",
   "mimetype": "text/x-python",
   "name": "python",
   "nbconvert_exporter": "python",
   "pygments_lexer": "ipython3",
   "version": "3.11.9"
  }
 },
 "nbformat": 4,
 "nbformat_minor": 5
}
