{
 "cells": [
  {
   "cell_type": "code",
   "execution_count": null,
   "id": "f323b3fc-d2b9-46c9-b093-847c6e897c0a",
   "metadata": {},
   "outputs": [],
   "source": [
    "import pandas as pd\n",
    "import csv\n",
    "import numpy as np\n",
    "import plotly.express as px\n",
    "from Creating_Index_DF_Day import IndexDataMerging"
   ]
  },
  {
   "cell_type": "code",
   "execution_count": null,
   "id": "bffadf2f-cfa0-4fc9-96ff-dc47bf98b0ea",
   "metadata": {
    "editable": true,
    "slideshow": {
     "slide_type": ""
    },
    "tags": []
   },
   "outputs": [],
   "source": [
    "#Input Data\n",
    "\n",
    "day=16\n",
    "month=8\n",
    "year=1976\n",
    "\n",
    "#Mogelijkheden: FFMC, ISI, BUI, DMC, DC, FWI\n",
    "index=\"FFMC\"\n",
    "\n",
    "#Dit betekent dat we over een eeuw van laag naar hoog gaan, of per dag. Dus True in de winter geeft (meestal) Weinig bosbrand gevaar aan, maar False in de winter geeft gewoon de hoogste kans of forest fires aan op die dag.\n",
    "Normalized=True\n",
    "\n",
    "\n",
    "\n",
    "\n",
    "\n",
    "\n"
   ]
  },
  {
   "cell_type": "code",
   "execution_count": null,
   "id": "8fd4461d-b150-4d5e-b9a0-3a69d54c29c0",
   "metadata": {
    "editable": true,
    "slideshow": {
     "slide_type": ""
    },
    "tags": []
   },
   "outputs": [],
   "source": [
    "date_index=IndexDataMerging(day, month, year, index)\n",
    "\n",
    "df=date_index.Data_Frame_Day()\n",
    "\n",
    "print(df)\n",
    "if not Normalized:\n",
    "    range_color = []\n",
    "else:\n",
    "    if index==\"FFMC\":\n",
    "        range_color = [75,88]\n",
    "    if index==\"ISI\":\n",
    "        range_color = [1,4]\n",
    "    if index==\"BUI\":\n",
    "        range_color = [15,74]\n",
    "    if index==\"DMC\":\n",
    "        range_color = [8,50]\n",
    "    if index==\"DC\":\n",
    "        range_color = [200,600]\n",
    "    if index==\"FWI\":\n",
    "        range_color = [0.5,12]"
   ]
  },
  {
   "cell_type": "code",
   "execution_count": null,
   "id": "87d929ed-9278-4512-8c39-ba17b189fab5",
   "metadata": {
    "editable": true,
    "slideshow": {
     "slide_type": ""
    },
    "tags": []
   },
   "outputs": [],
   "source": [
    "#When you want to save: Don't save the solution of this script, it's to big\n",
    "\n",
    "fig = px.scatter_map(df, lat=\"POS_NB\", lon=\"POS_OL\", hover_name=\"LOCATIE\",\n",
    "                        zoom=5, height=400, width =500, color=df[index].astype(float), range_color=range_color)\n",
    "\n",
    "\n",
    "fig.update_layout(map_style=\"dark\")\n",
    "fig.update_layout(margin={\"r\":0,\"t\":0,\"l\":0,\"b\":0})\n",
    "fig.show()"
   ]
  }
 ],
 "metadata": {
  "kernelspec": {
   "display_name": "Python 3 (ipykernel)",
   "language": "python",
   "name": "python3"
  },
  "language_info": {
   "codemirror_mode": {
    "name": "ipython",
    "version": 3
   },
   "file_extension": ".py",
   "mimetype": "text/x-python",
   "name": "python",
   "nbconvert_exporter": "python",
   "pygments_lexer": "ipython3",
   "version": "3.11.9"
  }
 },
 "nbformat": 4,
 "nbformat_minor": 5
}
