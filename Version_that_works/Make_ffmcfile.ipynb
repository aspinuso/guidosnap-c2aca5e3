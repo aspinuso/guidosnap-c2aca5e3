{
 "cells": [
  {
   "cell_type": "code",
   "execution_count": 21,
   "id": "4af65183-098a-4ea4-8227-cc504369e215",
   "metadata": {},
   "outputs": [],
   "source": [
    "#import databases\n",
    "from datetime import datetime\n",
    "import matplotlib.pyplot as plt\n",
    "import netCDF4\n",
    "from FireWeatherIndex import FWICLASS\n",
    "import numpy as np\n",
    "from tqdm import tqdm\n",
    "from MatrixCalculations import MATRIXCALC"
   ]
  },
  {
   "cell_type": "code",
   "execution_count": 22,
   "id": "a627a1a6-6d5c-40ad-8539-4c3e0a8f98d8",
   "metadata": {},
   "outputs": [],
   "source": [
    "#loading files\n",
    "folder = \"Guido-data/\"\n",
    "temp = netCDF4.Dataset(folder + \"tg_2024050112-14H.nc\", \"r\")\n",
    "rhum = netCDF4.Dataset(folder + \"hu_2024050112-14H.nc\", \"r\")\n",
    "wind = netCDF4.Dataset(folder + \"fg_2024050112-14H.nc\", \"r\")\n",
    "prcp = netCDF4.Dataset(folder + \"rr_2024050112-dummy.nc\", \"r\")"
   ]
  },
  {
   "cell_type": "code",
   "execution_count": 23,
   "id": "b098f23b-ef0f-419f-a79d-9f3fcbc2c3b1",
   "metadata": {},
   "outputs": [],
   "source": [
    "#Finding dimensions of one of the files: The files are of the same size, here they are found of the air_temperature. The starting files for\n",
    "#the different starting variables have to be of the same size to start the algorithm.\n",
    "latitude = temp.variables['air_temperature'].shape[1]\n",
    "longitude = temp.variables['air_temperature'].shape[2]"
   ]
  },
  {
   "cell_type": "code",
   "execution_count": 24,
   "id": "a2be428d-d09d-4c08-b9cd-7b9fbeddfb44",
   "metadata": {},
   "outputs": [],
   "source": [
    "#writing files in a netCDF4 file\n",
    "ffmcfile = netCDF4.Dataset('ffmcfile.nc', mode='w', format='NETCDF4_CLASSIC')\n",
    "\n",
    "lat_dim = ffmcfile.createDimension('lat', latitude)  # latitude axis\n",
    "lon_dim = ffmcfile.createDimension('lon', longitude)  # longitude axis\n",
    "time_dim = ffmcfile.createDimension('time', None)  # unlimited axis (can be appended to)."
   ]
  },
  {
   "cell_type": "code",
   "execution_count": 25,
   "id": "4f5a4f3d-9480-4972-a554-fffd950e1d04",
   "metadata": {},
   "outputs": [],
   "source": [
    "#Attributes\n",
    "ffmcfile.title = 'ffmc_test'"
   ]
  },
  {
   "cell_type": "code",
   "execution_count": 26,
   "id": "d35e2d3d-4c52-406f-a96c-81562753e46d",
   "metadata": {},
   "outputs": [],
   "source": [
    "#Creating variables\n",
    "lat = ffmcfile.createVariable('lat', np.float32, ('lat',))\n",
    "lat.units = 'degrees_north'\n",
    "lat.long_name = 'latitude'\n",
    "lon = ffmcfile.createVariable('lon', np.float32, ('lon',))\n",
    "lon.units = 'degrees_east'\n",
    "lon.long_name = 'longitude'\n",
    "time = ffmcfile.createVariable('time', np.float64, ('time',))\n",
    "time.units = 'days from 1-5-2024'\n",
    "time.long_name = 'time'\n",
    "ffmc_index = ffmcfile.createVariable('ffmc', np.float64,\n",
    "                                     ('time', 'lat', 'lon'))  # note: unlimited dimension is leftmost\n",
    "ffmc_index.units = '1'\n",
    "isi_index = ffmcfile.createVariable('isi', np.float64, ('time', 'lat', 'lon'))  # note: unlimited dimension is leftmost\n",
    "isi_index.units = '1'"
   ]
  },
  {
   "cell_type": "code",
   "execution_count": 27,
   "id": "ea78708d-6c78-42c3-93d9-6dac5f4c1c68",
   "metadata": {},
   "outputs": [],
   "source": [
    "#Here we create the FFMC0 matrix, so we started with 85, and from here we calculate further. The base value is also set on 85\n",
    "#It's easily changed to another value. The matrices will converge to a close value after about 3 days.\n",
    "ffmc0=85.0\n",
    "\n",
    "value = MATRIXCALC(ffmc0, longitude, latitude)\n",
    "begin = value.MAKE_MAT_FFMC0()\n",
    "\n",
    "ffmc_index[0, :, :] = begin.transpose()\n",
    "\n",
    "isi_index[0, :, :] = begin"
   ]
  },
  {
   "cell_type": "code",
   "execution_count": 28,
   "id": "03152c42-2715-4cc9-be19-b5c2e3215e0d",
   "metadata": {},
   "outputs": [
    {
     "name": "stdout",
     "output_type": "stream",
     "text": [
      "\n",
      "The precipitation are set to 0 everywhere, only use this as a test.\n",
      "\n",
      "The precipitation are set to 0 everywhere, only use this as a test.\n",
      "\n",
      "The precipitation are set to 0 everywhere, only use this as a test.\n",
      "\n",
      "The precipitation are set to 0 everywhere, only use this as a test.\n",
      "\n",
      "The precipitation are set to 0 everywhere, only use this as a test.\n",
      "\n",
      "The precipitation are set to 0 everywhere, only use this as a test.\n",
      "\n",
      "The precipitation are set to 0 everywhere, only use this as a test.\n",
      "\n",
      "The precipitation are set to 0 everywhere, only use this as a test.\n",
      "\n",
      "The precipitation are set to 0 everywhere, only use this as a test.\n",
      "\n",
      "The precipitation are set to 0 everywhere, only use this as a test.\n",
      "\n",
      "The precipitation are set to 0 everywhere, only use this as a test.\n"
     ]
    }
   ],
   "source": [
    "i=0\n",
    "while i<11:\n",
    "    FFMC=ffmc_index[i, :, :]\n",
    "    temperature=temp['air_temperature'][i, :, :].transpose()\n",
    "    rhumidity=rhum['relative_humidity'][i, :, :].transpose()\n",
    "    windspeed=wind['windspeed'][0, :, :].transpose()\n",
    "    new_slice = value.MAKE_NEXT_MATRIX_FFMC(FFMC=FFMC.transpose(), temp=temperature, rhum=rhumidity, wind=windspeed)\n",
    "    i+=1\n",
    "    ffmc_index[i, :, :] = new_slice.transpose()"
   ]
  },
  {
   "cell_type": "code",
   "execution_count": 29,
   "id": "4d16a819-8c26-4147-84fe-fa696a23b3d2",
   "metadata": {},
   "outputs": [
    {
     "name": "stdout",
     "output_type": "stream",
     "text": [
      "Dataset is closed\n"
     ]
    }
   ],
   "source": [
    "ffmcfile.close(); print('Dataset is closed')"
   ]
  },
  {
   "cell_type": "code",
   "execution_count": null,
   "id": "48c0096b-dcff-46d4-a12f-c5069e6f853d",
   "metadata": {},
   "outputs": [],
   "source": []
  }
 ],
 "metadata": {
  "kernelspec": {
   "display_name": "Python 3 (ipykernel)",
   "language": "python",
   "name": "python3"
  },
  "language_info": {
   "codemirror_mode": {
    "name": "ipython",
    "version": 3
   },
   "file_extension": ".py",
   "mimetype": "text/x-python",
   "name": "python",
   "nbconvert_exporter": "python",
   "pygments_lexer": "ipython3",
   "version": "3.11.9"
  }
 },
 "nbformat": 4,
 "nbformat_minor": 5
}
