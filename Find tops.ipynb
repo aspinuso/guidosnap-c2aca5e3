{
 "cells": [
  {
   "cell_type": "code",
   "execution_count": 1,
   "id": "8a8902d4-8866-401a-8d5b-7509d3b8b0e9",
   "metadata": {},
   "outputs": [],
   "source": [
    "import pandas as pd\n",
    "import csv\n",
    "import numpy as np\n"
   ]
  },
  {
   "cell_type": "code",
   "execution_count": 2,
   "id": "1dffde95-b58d-4d79-978c-3f13f46c9742",
   "metadata": {
    "editable": true,
    "slideshow": {
     "slide_type": ""
    },
    "tags": []
   },
   "outputs": [],
   "source": [
    "#Inputs:\n",
    "file_path = 'Guido-data/Index files/FWI_260.txt'"
   ]
  },
  {
   "cell_type": "code",
   "execution_count": 3,
   "id": "bc65da69-32ef-4bb6-9919-534b69a9e90f",
   "metadata": {},
   "outputs": [
    {
     "name": "stdout",
     "output_type": "stream",
     "text": [
      "           date       FFMC        ISI          DC       DMC       BUI  \\\n",
      "0      19060102  84.220644  12.278793   15.000000  6.014404  6.013288   \n",
      "1      19060103  82.425889   6.071271   15.532000  6.175801  6.194245   \n",
      "2      19060104  44.627377   0.286477   13.175577  3.612604  4.286752   \n",
      "3      19060105  18.412167   0.000257    1.324000  1.257584  0.882536   \n",
      "4      19060106  34.465255   0.076108    1.666000  1.000000  0.815724   \n",
      "...         ...        ...        ...         ...       ...       ...   \n",
      "43403  20241101  45.375846   0.132245  200.962223  1.454636  2.857561   \n",
      "43404  20241102  55.746225   0.436468  203.006223  1.697655  3.325780   \n",
      "43405  20241103  60.564315   0.517339  205.122223  1.870672  3.657944   \n",
      "43406  20241104  66.357422   0.889677  207.292223  2.086512  4.070592   \n",
      "43407  20241105  68.554471   0.756394  209.102223  2.222274  4.329516   \n",
      "\n",
      "            FWI  \n",
      "0      9.717494  \n",
      "1      5.166888  \n",
      "2      0.115513  \n",
      "3      0.000066  \n",
      "4      0.019262  \n",
      "...         ...  \n",
      "43403  0.045807  \n",
      "43404  0.159527  \n",
      "43405  0.195939  \n",
      "43406  0.351324  \n",
      "43407  0.306232  \n",
      "\n",
      "[43408 rows x 7 columns]\n"
     ]
    }
   ],
   "source": [
    "df=pd.read_csv(file_path)\n",
    "\n",
    "print(df)"
   ]
  },
  {
   "cell_type": "code",
   "execution_count": 4,
   "id": "9e8ecb49-a81b-411d-a996-12ae16c5bd8b",
   "metadata": {
    "editable": true,
    "slideshow": {
     "slide_type": ""
    },
    "tags": []
   },
   "outputs": [
    {
     "data": {
      "text/html": [
       "<div>\n",
       "<style scoped>\n",
       "    .dataframe tbody tr th:only-of-type {\n",
       "        vertical-align: middle;\n",
       "    }\n",
       "\n",
       "    .dataframe tbody tr th {\n",
       "        vertical-align: top;\n",
       "    }\n",
       "\n",
       "    .dataframe thead th {\n",
       "        text-align: right;\n",
       "    }\n",
       "</style>\n",
       "<table border=\"1\" class=\"dataframe\">\n",
       "  <thead>\n",
       "    <tr style=\"text-align: right;\">\n",
       "      <th></th>\n",
       "      <th>date</th>\n",
       "      <th>FFMC</th>\n",
       "      <th>ISI</th>\n",
       "      <th>DC</th>\n",
       "      <th>DMC</th>\n",
       "      <th>BUI</th>\n",
       "      <th>FWI</th>\n",
       "    </tr>\n",
       "  </thead>\n",
       "  <tbody>\n",
       "    <tr>\n",
       "      <th>0.000</th>\n",
       "      <td>1.906010e+07</td>\n",
       "      <td>0.796959</td>\n",
       "      <td>1.084862e-08</td>\n",
       "      <td>0.000000</td>\n",
       "      <td>1.000000</td>\n",
       "      <td>0.079503</td>\n",
       "      <td>2.618174e-09</td>\n",
       "    </tr>\n",
       "    <tr>\n",
       "      <th>0.250</th>\n",
       "      <td>1.935092e+07</td>\n",
       "      <td>44.081526</td>\n",
       "      <td>1.606579e-01</td>\n",
       "      <td>37.908130</td>\n",
       "      <td>1.195127</td>\n",
       "      <td>2.037321</td>\n",
       "      <td>5.716642e-02</td>\n",
       "    </tr>\n",
       "    <tr>\n",
       "      <th>0.500</th>\n",
       "      <td>1.965060e+07</td>\n",
       "      <td>64.728172</td>\n",
       "      <td>1.005238e+00</td>\n",
       "      <td>148.167538</td>\n",
       "      <td>2.872160</td>\n",
       "      <td>4.998478</td>\n",
       "      <td>4.469017e-01</td>\n",
       "    </tr>\n",
       "    <tr>\n",
       "      <th>0.999</th>\n",
       "      <td>2.024092e+07</td>\n",
       "      <td>89.919913</td>\n",
       "      <td>1.160367e+01</td>\n",
       "      <td>780.750886</td>\n",
       "      <td>76.207526</td>\n",
       "      <td>114.181076</td>\n",
       "      <td>2.504325e+01</td>\n",
       "    </tr>\n",
       "    <tr>\n",
       "      <th>1.000</th>\n",
       "      <td>2.024110e+07</td>\n",
       "      <td>92.773938</td>\n",
       "      <td>2.459291e+01</td>\n",
       "      <td>831.310010</td>\n",
       "      <td>117.560959</td>\n",
       "      <td>157.496296</td>\n",
       "      <td>4.437129e+01</td>\n",
       "    </tr>\n",
       "  </tbody>\n",
       "</table>\n",
       "</div>"
      ],
      "text/plain": [
       "               date       FFMC           ISI          DC         DMC  \\\n",
       "0.000  1.906010e+07   0.796959  1.084862e-08    0.000000    1.000000   \n",
       "0.250  1.935092e+07  44.081526  1.606579e-01   37.908130    1.195127   \n",
       "0.500  1.965060e+07  64.728172  1.005238e+00  148.167538    2.872160   \n",
       "0.999  2.024092e+07  89.919913  1.160367e+01  780.750886   76.207526   \n",
       "1.000  2.024110e+07  92.773938  2.459291e+01  831.310010  117.560959   \n",
       "\n",
       "              BUI           FWI  \n",
       "0.000    0.079503  2.618174e-09  \n",
       "0.250    2.037321  5.716642e-02  \n",
       "0.500    4.998478  4.469017e-01  \n",
       "0.999  114.181076  2.504325e+01  \n",
       "1.000  157.496296  4.437129e+01  "
      ]
     },
     "execution_count": 4,
     "metadata": {},
     "output_type": "execute_result"
    }
   ],
   "source": [
    "df.quantile(q=[0,0.25, 0.5, 0.999,1], axis=0, numeric_only=True)"
   ]
  },
  {
   "cell_type": "code",
   "execution_count": null,
   "id": "7fe08483-ce5a-4bf4-b068-1206648a4f90",
   "metadata": {},
   "outputs": [],
   "source": []
  }
 ],
 "metadata": {
  "kernelspec": {
   "display_name": "Python 3 (ipykernel)",
   "language": "python",
   "name": "python3"
  },
  "language_info": {
   "codemirror_mode": {
    "name": "ipython",
    "version": 3
   },
   "file_extension": ".py",
   "mimetype": "text/x-python",
   "name": "python",
   "nbconvert_exporter": "python",
   "pygments_lexer": "ipython3",
   "version": "3.11.9"
  }
 },
 "nbformat": 4,
 "nbformat_minor": 5
}
