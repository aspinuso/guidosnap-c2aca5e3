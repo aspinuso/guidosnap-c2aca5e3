{
 "cells": [
  {
   "cell_type": "code",
   "execution_count": 1,
   "id": "2dd96e77-7322-4b4a-a187-8948ca8fe87e",
   "metadata": {},
   "outputs": [],
   "source": [
    "from FireWeatherIndex import FWICLASS\n",
    "import matplotlib.pyplot as plt\n",
    "import csv\n",
    "import pandas as pd"
   ]
  },
  {
   "cell_type": "code",
   "execution_count": 7,
   "id": "408339af-2031-4c72-b875-503ad973ee00",
   "metadata": {
    "scrolled": true
   },
   "outputs": [],
   "source": [
    "#read CSV from a .txt file\n",
    "file_path = 'Guido-data/Dagdata_251_275_279_330_391.txt'\n",
    "\n",
    "data=[]\n",
    "\n",
    "with open(file_path, 'r') as file:\n",
    "    csv_reader = csv.reader(file)\n",
    "    for row in csv_reader:\n",
    "        data.append(row)\n",
    "\n"
   ]
  },
  {
   "cell_type": "markdown",
   "id": "b58be3dc-800a-42dd-9977-5c83285287b2",
   "metadata": {},
   "source": [
    "Hier wordt één grote dataframe gemaakt \n",
    "FG=gemiddelde windsnelheid in 0.1 m/s\n",
    "TX=maximum temperatuur in 0.1°C\n",
    "RH=Neerslag in 0.1mm(-1 betekent neerslag<0.05mm)\n",
    "UG=Gemiddelde luchtvochtigheidsgraad in %"
   ]
  },
  {
   "cell_type": "code",
   "execution_count": 35,
   "id": "236e5770-fb60-4cbf-beba-c5d9921804b3",
   "metadata": {},
   "outputs": [
    {
     "name": "stdout",
     "output_type": "stream",
     "text": [
      "         STN  YYYYMMDD     FG     TX     RH     UG\n",
      "0        251  19940526                            \n",
      "1        251  19940527                            \n",
      "2        251  19940528                            \n",
      "3        251  19940529                            \n",
      "4        251  19940530                            \n",
      "...      ...       ...    ...    ...    ...    ...\n",
      "83288    391  20241010      9    154     47     86\n",
      "83289    391  20241011      4    139      0     84\n",
      "83290    391  20241012     22    123     10     85\n",
      "83291    391  20241013     21    125      3     81\n",
      "83292    391  20241014     11     97     49     93\n",
      "\n",
      "[83293 rows x 6 columns]\n"
     ]
    }
   ],
   "source": [
    "data_minus_info=data[15:]\n",
    "\n",
    "df=pd.DataFrame(data_minus_info[1:], columns=['STN', 'YYYYMMDD', 'FG', 'TX', 'RH', 'UG'])\n",
    "print(df)"
   ]
  },
  {
   "cell_type": "markdown",
   "id": "84db5f06-b7a3-4fd4-a327-86a627ec968a",
   "metadata": {},
   "source": []
  },
  {
   "cell_type": "code",
   "execution_count": 45,
   "id": "9b8ec7c9-9117-4792-9f1f-b91f481e68c0",
   "metadata": {},
   "outputs": [
    {
     "name": "stdout",
     "output_type": "stream",
     "text": [
      "[391, 330, 275, 279, 251]\n"
     ]
    }
   ],
   "source": [
    "df['STN']=df['STN'].astype(int)\n",
    "df['YYYYMMDD']=df['YYYYMMDD'].astype(int)\n",
    "\n",
    "print(list(set(df['STN'])))"
   ]
  },
  {
   "cell_type": "code",
   "execution_count": 49,
   "id": "91dbb0fa-6df6-4f7f-a9b4-68c2e468b632",
   "metadata": {},
   "outputs": [],
   "source": [
    "df_391 = df[df[\"STN\"] == 391]\n",
    "df_330 = df[df[\"STN\"] == 330]\n",
    "df_275 = df[df[\"STN\"] == 275]\n",
    "df_279 = df[df[\"STN\"] == 279]\n",
    "df_251 = df[df[\"STN\"] == 251]"
   ]
  },
  {
   "cell_type": "code",
   "execution_count": 47,
   "id": "0dbd1ef3-9ae2-4fcf-9ec0-507c761bbf40",
   "metadata": {},
   "outputs": [
    {
     "name": "stdout",
     "output_type": "stream",
     "text": [
      "       STN  YYYYMMDD     FG     TX     RH     UG\n",
      "70768  391  19900701                            \n",
      "70769  391  19900702                            \n",
      "70770  391  19900703                            \n",
      "70771  391  19900704     41    195            69\n",
      "70772  391  19900705     57    188            86\n",
      "...    ...       ...    ...    ...    ...    ...\n",
      "83288  391  20241010      9    154     47     86\n",
      "83289  391  20241011      4    139      0     84\n",
      "83290  391  20241012     22    123     10     85\n",
      "83291  391  20241013     21    125      3     81\n",
      "83292  391  20241014     11     97     49     93\n",
      "\n",
      "[12525 rows x 6 columns]\n"
     ]
    }
   ],
   "source": []
  },
  {
   "cell_type": "code",
   "execution_count": null,
   "id": "b56de502-921c-40ab-a9be-8c965920ed68",
   "metadata": {},
   "outputs": [],
   "source": []
  },
  {
   "cell_type": "code",
   "execution_count": null,
   "id": "4ed66792-181a-4ad0-81b5-86b975ccb7ff",
   "metadata": {},
   "outputs": [],
   "source": []
  },
  {
   "cell_type": "code",
   "execution_count": null,
   "id": "434c7edc-abfa-4d07-8b1b-b9bf4034e129",
   "metadata": {},
   "outputs": [],
   "source": []
  },
  {
   "cell_type": "code",
   "execution_count": 10,
   "id": "e38d0a9e-f82c-4f8d-b292-ab2e04d405aa",
   "metadata": {},
   "outputs": [
    {
     "ename": "IndexError",
     "evalue": "list index out of range",
     "output_type": "error",
     "traceback": [
      "\u001b[0;31m---------------------------------------------------------------------------\u001b[0m",
      "\u001b[0;31mIndexError\u001b[0m                                Traceback (most recent call last)",
      "Cell \u001b[0;32mIn[10], line 1\u001b[0m\n\u001b[0;32m----> 1\u001b[0m value\u001b[38;5;241m=\u001b[39mFWICLASS(\u001b[38;5;28mfloat\u001b[39m(\u001b[43mdata\u001b[49m\u001b[43m[\u001b[49m\u001b[38;5;241;43m0\u001b[39;49m\u001b[43m]\u001b[49m\u001b[43m[\u001b[49m\u001b[38;5;241;43m3\u001b[39;49m\u001b[43m]\u001b[49m)\u001b[38;5;241m/\u001b[39m\u001b[38;5;241m10\u001b[39m,\u001b[38;5;28mfloat\u001b[39m(data[\u001b[38;5;241m0\u001b[39m][\u001b[38;5;241m5\u001b[39m]),\u001b[38;5;28mfloat\u001b[39m(data[\u001b[38;5;241m0\u001b[39m][\u001b[38;5;241m2\u001b[39m])\u001b[38;5;241m/\u001b[39m\u001b[38;5;241m10\u001b[39m,\u001b[38;5;28mmax\u001b[39m(\u001b[38;5;28mfloat\u001b[39m(data[\u001b[38;5;241m0\u001b[39m][\u001b[38;5;241m4\u001b[39m])\u001b[38;5;241m/\u001b[39m\u001b[38;5;241m10\u001b[39m,\u001b[38;5;241m0\u001b[39m))\n\u001b[1;32m      2\u001b[0m ffmc\u001b[38;5;241m=\u001b[39mvalue\u001b[38;5;241m.\u001b[39mFFMCcalc(\u001b[38;5;241m85\u001b[39m)\n\u001b[1;32m      3\u001b[0m isi\u001b[38;5;241m=\u001b[39mvalue\u001b[38;5;241m.\u001b[39mISIcalc(\u001b[38;5;241m85\u001b[39m)\n",
      "\u001b[0;31mIndexError\u001b[0m: list index out of range"
     ]
    }
   ],
   "source": []
  }
 ],
 "metadata": {
  "kernelspec": {
   "display_name": "Python 3 (ipykernel)",
   "language": "python",
   "name": "python3"
  },
  "language_info": {
   "codemirror_mode": {
    "name": "ipython",
    "version": 3
   },
   "file_extension": ".py",
   "mimetype": "text/x-python",
   "name": "python",
   "nbconvert_exporter": "python",
   "pygments_lexer": "ipython3",
   "version": "3.11.9"
  }
 },
 "nbformat": 4,
 "nbformat_minor": 5
}
