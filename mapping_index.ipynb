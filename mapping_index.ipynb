{
 "cells": [
  {
   "cell_type": "code",
   "execution_count": 1,
   "id": "a126d462-1173-4b0c-a5e3-3b4dad857f1a",
   "metadata": {},
   "outputs": [],
   "source": [
    "import pandas as pd\n",
    "import csv\n",
    "import numpy as np\n",
    "import plotly.express as px"
   ]
  },
  {
   "cell_type": "code",
   "execution_count": 2,
   "id": "d780236d-3d8d-4fc2-b232-6f257498a2b0",
   "metadata": {},
   "outputs": [],
   "source": [
    "#inputs\n",
    "\n",
    "Day=27\n",
    "Month=7\n",
    "Year=2018\n",
    "\n",
    "index='FWI'\n",
    "\n",
    "\n",
    "\n",
    "\n",
    "\n",
    "\n"
   ]
  },
  {
   "cell_type": "code",
   "execution_count": 3,
   "id": "66a1f735-1552-458b-a74a-3ef352927326",
   "metadata": {},
   "outputs": [
    {
     "name": "stdout",
     "output_type": "stream",
     "text": [
      "20180727\n"
     ]
    }
   ],
   "source": [
    "YYYYMMDD=10000*Year+100*Month+Day\n",
    "print(YYYYMMDD)"
   ]
  },
  {
   "cell_type": "code",
   "execution_count": 4,
   "id": "d1a16fd8-41dc-4f68-89d3-53f10ec11a3b",
   "metadata": {
    "editable": true,
    "scrolled": true,
    "slideshow": {
     "slide_type": ""
    },
    "tags": []
   },
   "outputs": [],
   "source": [
    "#read CSV from a .txt file\n",
    "\n",
    "\n",
    "file_path='Guido-data/Data stations.txt'\n",
    "\n",
    "list=[210,215,235,240,249,260,269,270,275,277,279,280,283,310,340,344,350,370,375,377,380,391]\n",
    "list=[str(v) for v in list]\n",
    "df = pd.read_csv(file_path)\n",
    "\n",
    "df = df.loc[df['STN'].isin(list)]\n",
    "\n",
    "df = df[['STN', 'LOCATIE', 'POS_NB', 'POS_OL']]\n",
    "\n"
   ]
  },
  {
   "cell_type": "code",
   "execution_count": null,
   "id": "ad3066a6-d23d-4f4d-b261-f582ed5ac013",
   "metadata": {},
   "outputs": [],
   "source": []
  },
  {
   "cell_type": "code",
   "execution_count": 5,
   "id": "028fc590-35cc-4250-91ca-61869282ec03",
   "metadata": {},
   "outputs": [
    {
     "name": "stdout",
     "output_type": "stream",
     "text": [
      "    STN                 LOCATIE   POS_NB  POS_OL        FWI  shrt_info\n",
      "13  215         VOORSCHOTEN AWS  52.1397  4.4364  20.550009         20\n",
      "18  235              DE KOOY VK  52.9269  4.7811  19.876898         19\n",
      "23  240   AMSTERDAM/SCHIPHOL AP  52.3172  4.7897  29.991615         29\n",
      "26  249            BERKHOUT AWS  52.6428  4.9789  24.813707         24\n",
      "31  260             DE BILT AWS  52.0989  5.1797  44.371289         44\n",
      "34  269             LELYSTAD AP  52.4483  5.5081  27.974102         27\n",
      "35  270              LEEUWARDEN  53.2231  5.7517  22.831202         22\n",
      "37  275                  DEELEN  52.0547  5.8722  34.180369         34\n",
      "38  277          LAUWERSOOG AWS  53.4117  6.1992  18.941846         18\n",
      "40  279           HOOGEVEEN AWS  52.7489  6.5731  25.984465         25\n",
      "41  280      GRONINGEN AP EELDE  53.1236  6.5847  21.729588         21\n",
      "42  283              HUPSEL AWS  52.0678  6.6567  29.936819         29\n",
      "47  310          VLISSINGEN AWS  51.4414  3.5958  18.654138         18\n",
      "61  340             WOENSDRECHT  51.4478  4.3419  10.541496         10\n",
      "63  344  ROTTERDAM THE HAGUE AP  51.9606  4.4469  14.284982         14\n",
      "65  350             GILZE RIJEN  51.5650  4.9353  33.292132         33\n",
      "67  370            EINDHOVEN AP  51.4497  5.3769  32.924029         32\n",
      "68  375                  VOLKEL  51.6586  5.7067  29.646611         29\n",
      "69  377                 ELL AWS  51.1967  5.7625  24.354239         24\n",
      "70  380    MAASTRICHT AACHEN AP  50.9053  5.7619  31.246601         31\n",
      "71  391               ARCEN AWS  51.4972  6.1961  32.017294         32\n"
     ]
    }
   ],
   "source": [
    "\n",
    "\n",
    "values=[]\n",
    "for station in list:\n",
    "    index_path='Guido-data/Index files/FWI_'+station+'.txt'\n",
    "    df_station=pd.read_csv(index_path)\n",
    "    try:\n",
    "        value=float(df_station.loc[df_station['date'] == YYYYMMDD, index].to_numpy()[0])\n",
    "        values.append(value)\n",
    "    except IndexError:\n",
    "        values.append('NAN')\n",
    "\n",
    "\n",
    "df[index]=values\n",
    "df=df[df[index] != 'NAN']\n",
    "\n",
    "df['shrt_info']=df[index].astype('int')\n",
    "print(df)"
   ]
  },
  {
   "cell_type": "code",
   "execution_count": null,
   "id": "5acc2a97-feaf-4af0-a06b-f017d9f8fb6b",
   "metadata": {},
   "outputs": [],
   "source": []
  },
  {
   "cell_type": "code",
   "execution_count": null,
   "id": "f3acd8dd-0a6c-494b-9d08-2fa38850b801",
   "metadata": {},
   "outputs": [],
   "source": []
  }
 ],
 "metadata": {
  "kernelspec": {
   "display_name": "Python 3 (ipykernel)",
   "language": "python",
   "name": "python3"
  },
  "language_info": {
   "codemirror_mode": {
    "name": "ipython",
    "version": 3
   },
   "file_extension": ".py",
   "mimetype": "text/x-python",
   "name": "python",
   "nbconvert_exporter": "python",
   "pygments_lexer": "ipython3",
   "version": "3.11.9"
  }
 },
 "nbformat": 4,
 "nbformat_minor": 5
}
